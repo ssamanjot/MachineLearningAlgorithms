{
 "cells": [
  {
   "cell_type": "markdown",
   "metadata": {},
   "source": [
    "# LDA"
   ]
  },
  {
   "cell_type": "code",
   "execution_count": 71,
   "metadata": {},
   "outputs": [],
   "source": [
    "from gensim import corpora, models, similarities\n",
    "from itertools import chain\n",
    "\n",
    "\n",
    "documents = [\"Human machine interface for lab abc computer applications\",\n",
    "             \"A survey of user opinion of computer system response time\",\n",
    "             \"The EPS user interface management system\",\n",
    "             \"System and human system engineering testing of EPS\",\n",
    "             \"Relation of user perceived response time to error measurement\",\n",
    "             \"The generation of random binary unordered trees\",\n",
    "             \"The intersection graph of paths in trees\",\n",
    "             \"Graph minors IV Widths of trees and well quasi ordering\",\n",
    "             \"Graph minors A survey\"]\n",
    "\n"
   ]
  },
  {
   "cell_type": "code",
   "execution_count": 72,
   "metadata": {},
   "outputs": [],
   "source": [
    "# remove common words and tokenize\n",
    "stoplist = set(stopwords.words('english'))\n",
    "texts = [[word for word in document.lower().split() if word not in stoplist]\n",
    "         for document in documents]"
   ]
  },
  {
   "cell_type": "code",
   "execution_count": 73,
   "metadata": {},
   "outputs": [],
   "source": [
    "# remove words that appear only once\n",
    "all_tokens = sum(texts, [])\n",
    "tokens_once = set(word for word in set(all_tokens) if all_tokens.count(word) == 1)\n",
    "texts = [[word for word in text if word not in tokens_once] for text in texts]"
   ]
  },
  {
   "cell_type": "code",
   "execution_count": 74,
   "metadata": {},
   "outputs": [],
   "source": [
    "id2word = corpora.Dictionary(texts)\n",
    "# Creates the Bag of Word corpus.\n",
    "mm = [id2word.doc2bow(text) for text in texts]"
   ]
  },
  {
   "cell_type": "code",
   "execution_count": 101,
   "metadata": {},
   "outputs": [],
   "source": [
    "lda = models.ldamodel.LdaModel(corpus=mm, id2word=id2word, num_topics=3, \\\n",
    "                               update_every=1, chunksize=2000, passes=1,minimum_probability=0.00)"
   ]
  },
  {
   "cell_type": "code",
   "execution_count": 102,
   "metadata": {},
   "outputs": [
    {
     "name": "stdout",
     "output_type": "stream",
     "text": [
      "(0, '0.144*\"user\" + 0.142*\"response\" + 0.142*\"time\" + 0.140*\"computer\" + 0.085*\"system\" + 0.084*\"survey\" + 0.082*\"interface\" + 0.079*\"human\" + 0.030*\"trees\" + 0.026*\"graph\"')\n",
      "(1, '0.263*\"system\" + 0.184*\"eps\" + 0.110*\"user\" + 0.109*\"human\" + 0.106*\"interface\" + 0.041*\"trees\" + 0.032*\"computer\" + 0.032*\"graph\" + 0.031*\"time\" + 0.031*\"response\"')\n",
      "(2, '0.249*\"graph\" + 0.235*\"trees\" + 0.176*\"minors\" + 0.101*\"survey\" + 0.032*\"system\" + 0.031*\"human\" + 0.031*\"interface\" + 0.030*\"computer\" + 0.029*\"time\" + 0.029*\"eps\"')\n"
     ]
    }
   ],
   "source": [
    "for top in lda.print_topics():\n",
    "      print(top)\n",
    "\n"
   ]
  },
  {
   "cell_type": "code",
   "execution_count": 103,
   "metadata": {},
   "outputs": [],
   "source": [
    "lda_corpus = lda[mm]"
   ]
  },
  {
   "cell_type": "code",
   "execution_count": 104,
   "metadata": {},
   "outputs": [],
   "source": [
    "scores = list(chain(*[[score for topic_id,score in topic] \\\n",
    "                      for topic in [doc for doc in lda_corpus]]))"
   ]
  },
  {
   "cell_type": "code",
   "execution_count": 105,
   "metadata": {},
   "outputs": [
    {
     "data": {
      "text/plain": [
       "0.3333333333333333"
      ]
     },
     "execution_count": 105,
     "metadata": {},
     "output_type": "execute_result"
    }
   ],
   "source": [
    "threshold = sum(scores)/len(scores)\n",
    "threshold\n",
    "\n"
   ]
  },
  {
   "cell_type": "code",
   "execution_count": 106,
   "metadata": {},
   "outputs": [
    {
     "data": {
      "text/plain": [
       "[[(0, 0.81069726), (1, 0.10487517), (2, 0.08442759)],\n",
       " [(0, 0.8944235), (1, 0.056176662), (2, 0.049399838)],\n",
       " [(0, 0.07531268), (1, 0.85753876), (2, 0.067148566)],\n",
       " [(0, 0.069920085), (1, 0.8630085), (2, 0.06707147)],\n",
       " [(0, 0.8296006), (1, 0.08656673), (2, 0.08383265)],\n",
       " [(0, 0.16766271), (1, 0.16820325), (2, 0.664134)],\n",
       " [(0, 0.111619234), (1, 0.11181541), (2, 0.7765654)],\n",
       " [(0, 0.083687164), (1, 0.08381335), (2, 0.8324995)],\n",
       " [(0, 0.08732531), (1, 0.08388124), (2, 0.82879347)]]"
      ]
     },
     "execution_count": 106,
     "metadata": {},
     "output_type": "execute_result"
    }
   ],
   "source": [
    "list(lda_corpus)"
   ]
  },
  {
   "cell_type": "code",
   "execution_count": 107,
   "metadata": {},
   "outputs": [
    {
     "name": "stdout",
     "output_type": "stream",
     "text": [
      "[(0, 0.8105663), (1, 0.10500601), (2, 0.08442772)]\n",
      "Human machine interface for lab abc computer applications\n",
      "[(0, 0.8943757), (1, 0.05622427), (2, 0.049400084)]\n",
      "A survey of user opinion of computer system response time\n",
      "[(0, 0.07533219), (1, 0.8575192), (2, 0.06714858)]\n",
      "The EPS user interface management system\n",
      "[(0, 0.06994259), (1, 0.8629859), (2, 0.067071535)]\n",
      "System and human system engineering testing of EPS\n",
      "[(0, 0.82960194), (1, 0.0865654), (2, 0.083832644)]\n",
      "Relation of user perceived response time to error measurement\n",
      "[(0, 0.16766258), (1, 0.16820239), (2, 0.664135)]\n",
      "The generation of random binary unordered trees\n",
      "[(0, 0.11161925), (1, 0.111815445), (2, 0.7765653)]\n",
      "The intersection graph of paths in trees\n",
      "[(0, 0.083687134), (1, 0.08381323), (2, 0.8324996)]\n",
      "Graph minors IV Widths of trees and well quasi ordering\n",
      "[(0, 0.087322004), (1, 0.08388122), (2, 0.82879674)]\n",
      "Graph minors A survey\n"
     ]
    }
   ],
   "source": [
    "\n",
    "for i,j in zip(lda_corpus,documents):\n",
    "    print(i)\n",
    "    print(j)\n"
   ]
  },
  {
   "cell_type": "code",
   "execution_count": 108,
   "metadata": {},
   "outputs": [
    {
     "name": "stdout",
     "output_type": "stream",
     "text": [
      "['Human machine interface for lab abc computer applications', 'A survey of user opinion of computer system response time', 'Relation of user perceived response time to error measurement']\n",
      "['The EPS user interface management system', 'System and human system engineering testing of EPS']\n",
      "['The generation of random binary unordered trees', 'The intersection graph of paths in trees', 'Graph minors IV Widths of trees and well quasi ordering', 'Graph minors A survey']\n"
     ]
    }
   ],
   "source": [
    "cluster1 = [j for i,j in zip(lda_corpus,documents) if i[0][1] > threshold]\n",
    "cluster2 = [j for i,j in zip(lda_corpus,documents) if i[1][1] > threshold]\n",
    "cluster3 = [j for i,j in zip(lda_corpus,documents) if i[2][1] > threshold]\n",
    "print(cluster1)\n",
    "print(cluster2)\n",
    "print(cluster3)"
   ]
  },
  {
   "cell_type": "code",
   "execution_count": null,
   "metadata": {},
   "outputs": [],
   "source": []
  },
  {
   "cell_type": "code",
   "execution_count": null,
   "metadata": {},
   "outputs": [],
   "source": []
  },
  {
   "cell_type": "code",
   "execution_count": null,
   "metadata": {},
   "outputs": [],
   "source": []
  },
  {
   "cell_type": "code",
   "execution_count": null,
   "metadata": {},
   "outputs": [],
   "source": []
  },
  {
   "cell_type": "code",
   "execution_count": null,
   "metadata": {},
   "outputs": [],
   "source": []
  },
  {
   "cell_type": "code",
   "execution_count": null,
   "metadata": {},
   "outputs": [],
   "source": []
  },
  {
   "cell_type": "code",
   "execution_count": null,
   "metadata": {},
   "outputs": [],
   "source": []
  },
  {
   "cell_type": "code",
   "execution_count": null,
   "metadata": {},
   "outputs": [],
   "source": []
  },
  {
   "cell_type": "code",
   "execution_count": null,
   "metadata": {},
   "outputs": [],
   "source": []
  },
  {
   "cell_type": "code",
   "execution_count": null,
   "metadata": {},
   "outputs": [],
   "source": []
  },
  {
   "cell_type": "code",
   "execution_count": null,
   "metadata": {},
   "outputs": [],
   "source": []
  },
  {
   "cell_type": "code",
   "execution_count": null,
   "metadata": {},
   "outputs": [],
   "source": []
  },
  {
   "cell_type": "code",
   "execution_count": null,
   "metadata": {},
   "outputs": [],
   "source": []
  },
  {
   "cell_type": "code",
   "execution_count": null,
   "metadata": {},
   "outputs": [],
   "source": []
  },
  {
   "cell_type": "code",
   "execution_count": null,
   "metadata": {},
   "outputs": [],
   "source": []
  },
  {
   "cell_type": "code",
   "execution_count": null,
   "metadata": {},
   "outputs": [],
   "source": []
  },
  {
   "cell_type": "code",
   "execution_count": null,
   "metadata": {},
   "outputs": [],
   "source": []
  },
  {
   "cell_type": "code",
   "execution_count": 56,
   "metadata": {},
   "outputs": [],
   "source": []
  },
  {
   "cell_type": "code",
   "execution_count": null,
   "metadata": {},
   "outputs": [],
   "source": []
  },
  {
   "cell_type": "code",
   "execution_count": null,
   "metadata": {},
   "outputs": [],
   "source": []
  },
  {
   "cell_type": "code",
   "execution_count": null,
   "metadata": {},
   "outputs": [],
   "source": []
  },
  {
   "cell_type": "code",
   "execution_count": null,
   "metadata": {},
   "outputs": [],
   "source": []
  },
  {
   "cell_type": "code",
   "execution_count": null,
   "metadata": {},
   "outputs": [],
   "source": []
  }
 ],
 "metadata": {
  "kernelspec": {
   "display_name": "Python 3",
   "language": "python",
   "name": "python3"
  },
  "language_info": {
   "codemirror_mode": {
    "name": "ipython",
    "version": 3
   },
   "file_extension": ".py",
   "mimetype": "text/x-python",
   "name": "python",
   "nbconvert_exporter": "python",
   "pygments_lexer": "ipython3",
   "version": "3.7.3"
  }
 },
 "nbformat": 4,
 "nbformat_minor": 2
}
